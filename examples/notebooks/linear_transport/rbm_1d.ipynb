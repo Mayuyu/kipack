{
 "cells": [
  {
   "cell_type": "code",
   "execution_count": 1,
   "metadata": {},
   "outputs": [],
   "source": [
    "%reload_ext autoreload\n",
    "%autoreload 2\n",
    "\n",
    "import os\n",
    "os.chdir(\"/home/vscode/kipack/\")"
   ]
  },
  {
   "cell_type": "markdown",
   "metadata": {},
   "source": [
    "# Test 1"
   ]
  },
  {
   "cell_type": "code",
   "execution_count": 2,
   "metadata": {},
   "outputs": [],
   "source": [
    "import numpy as np\n",
    "from examples.linear_transport.rbm_1d_ap import run, maxwellian_vec_init\n",
    "# from examples.linear_transport.rbm_1d import run, maxwellian_vec_init\n",
    "\n",
    "x = np.arange(0.025, 1.025, 0.025)\n",
    "# Parameters\n",
    "kn = lambda x: 1e-8\n",
    "sigma_s = lambda x: 1.0\n",
    "sigma_a = lambda x: 0.0\n",
    "Q = lambda x: 0.0\n",
    "xmin = 0.0\n",
    "xmax = 1.0\n",
    "nx = 40\n",
    "dx = (xmax - xmin) / nx\n",
    "dt = 0.0002\n",
    "nt = 500\n",
    "BC = \"dirichlet\"\n",
    "f_l = lambda v: 1.0\n",
    "f_r = lambda v: 0.0\n",
    "# BC = \"periodic\"\n",
    "scheme = \"Euler\"\n",
    "# init_func = maxwellian_vec_init\n",
    "init_func = lambda vmesh, rho, u, T: 0.0"
   ]
  },
  {
   "cell_type": "markdown",
   "metadata": {},
   "source": [
    "# Test 2"
   ]
  },
  {
   "cell_type": "code",
   "execution_count": 3,
   "metadata": {},
   "outputs": [],
   "source": [
    "import numpy as np\n",
    "from examples.linear_transport.rbm_1d_ap import run, maxwellian_vec_init\n",
    "# from examples.linear_transport.rbm_1d import run, maxwellian_vec_init\n",
    "\n",
    "\n",
    "# x = np.arange(0.025, 1.025, 0.025)\n",
    "# Parameters\n",
    "kn = lambda x: 1e-2\n",
    "sigma_s = lambda x: 1.0 + (10 * x) ** 2\n",
    "sigma_a = lambda x: 0.0\n",
    "Q = lambda x: 1.0\n",
    "xmin = 0.0\n",
    "xmax = 1.0\n",
    "nx = 40\n",
    "dx = (xmax - xmin) / nx\n",
    "dt = 0.0002\n",
    "nt = 2000\n",
    "BC = \"dirichlet\"\n",
    "f_l = lambda v: 0.0\n",
    "f_r = lambda v: 0.0\n",
    "# BC = \"periodic\"\n",
    "scheme = \"Euler\"\n",
    "# init_func = maxwellian_vec_init\n",
    "init_func = lambda vmesh, rho, u, T: 0.0"
   ]
  },
  {
   "cell_type": "markdown",
   "metadata": {},
   "source": [
    "# Test 3"
   ]
  },
  {
   "cell_type": "code",
   "execution_count": 4,
   "metadata": {},
   "outputs": [],
   "source": [
    "import numpy as np\n",
    "from examples.linear_transport.rbm_1d_ap import run, maxwellian_vec_init\n",
    "# from examples.linear_transport.rbm_1d import run, maxwellian_vec_init\n",
    "\n",
    "# Parameters\n",
    "kn = lambda x: 0.05\n",
    "sigma_s = lambda x: 1.0\n",
    "sigma_a = lambda x: 0.0\n",
    "Q = lambda x: 0.0\n",
    "xmin = 0.0\n",
    "xmax = 11.0\n",
    "nx = 1100\n",
    "dx = (xmax - xmin) / nx\n",
    "dt = 1e-4\n",
    "nt = 100000\n",
    "BC = \"dirichlet\"\n",
    "# fL = 5.0 * np.sin(v)\n",
    "f_l = lambda v: 5.0 * np.sin(v)\n",
    "f_r = lambda v: 0.0\n",
    "scheme = \"Euler\"\n",
    "init_func = lambda vmesh, rho, u, T: 0.0"
   ]
  },
  {
   "cell_type": "code",
   "execution_count": null,
   "metadata": {
    "tags": []
   },
   "outputs": [
    {
     "name": "stdout",
     "output_type": "stream",
     "text": [
      "1 dimensional collision model.\n",
      "Number of velocity cells: 100.\n",
      "Velocity domain: [0.0, 1.0].\n",
      "dt is 0.0001\n",
      " 70233/100000 [====================>.........] - ETA: 11:27"
     ]
    }
   ],
   "source": [
    "output_ref = run(kn=kn, sigma_s=sigma_s, sigma_a=sigma_a, Q=Q,\n",
    "                 xmin=xmin, xmax=xmax, nx=nx, dt=dt, nt=nt,\n",
    "                 BC=BC, f_l=f_l, f_r=f_r,\n",
    "                 coll=\"linear\", scheme=scheme,\n",
    "                 init_func=init_func)"
   ]
  },
  {
   "cell_type": "code",
   "execution_count": null,
   "metadata": {},
   "outputs": [],
   "source": [
    "output_rbm = run(kn=kn, sigma_s=sigma_s, sigma_a=sigma_a, Q=Q,\n",
    "                 xmin=xmin, xmax=xmax, nx=nx, dt=dt, nt=nt,\n",
    "                 BC=BC, f_l=f_l, f_r=f_r,\n",
    "                 coll=\"rbm\", scheme=scheme,\n",
    "                 init_func=init_func)"
   ]
  },
  {
   "cell_type": "code",
   "execution_count": null,
   "metadata": {},
   "outputs": [],
   "source": [
    "output_rbm_symm = run(kn=kn, sigma_s=sigma_s, sigma_a=sigma_a, Q=Q,\n",
    "                      xmin=xmin, xmax=xmax, nx=nx, dt=dt, nt=nt,\n",
    "                      BC=BC, f_l=f_l, f_r=f_r,\n",
    "                      coll=\"rbm_symm\", scheme=scheme,\n",
    "                      init_func=init_func)"
   ]
  },
  {
   "cell_type": "code",
   "execution_count": 1,
   "metadata": {},
   "outputs": [
    {
     "ename": "NameError",
     "evalue": "name 'output_ref' is not defined",
     "output_type": "error",
     "traceback": [
      "\u001b[0;31m---------------------------------------------------------------------------\u001b[0m",
      "\u001b[0;31mNameError\u001b[0m                                 Traceback (most recent call last)",
      "\u001b[0;32m<ipython-input-1-0a3b2d11746a>\u001b[0m in \u001b[0;36m<module>\u001b[0;34m\u001b[0m\n\u001b[1;32m      6\u001b[0m \u001b[0mfig\u001b[0m\u001b[0;34m,\u001b[0m \u001b[0;34m(\u001b[0m\u001b[0max1\u001b[0m\u001b[0;34m,\u001b[0m \u001b[0max2\u001b[0m\u001b[0;34m,\u001b[0m \u001b[0max3\u001b[0m\u001b[0;34m)\u001b[0m \u001b[0;34m=\u001b[0m \u001b[0mplt\u001b[0m\u001b[0;34m.\u001b[0m\u001b[0msubplots\u001b[0m\u001b[0;34m(\u001b[0m\u001b[0;36m1\u001b[0m\u001b[0;34m,\u001b[0m \u001b[0;36m3\u001b[0m\u001b[0;34m,\u001b[0m \u001b[0mfigsize\u001b[0m\u001b[0;34m=\u001b[0m\u001b[0;34m(\u001b[0m\u001b[0;36m20\u001b[0m\u001b[0;34m,\u001b[0m\u001b[0;36m5\u001b[0m\u001b[0;34m)\u001b[0m\u001b[0;34m)\u001b[0m\u001b[0;34m\u001b[0m\u001b[0;34m\u001b[0m\u001b[0m\n\u001b[1;32m      7\u001b[0m \u001b[0;34m\u001b[0m\u001b[0m\n\u001b[0;32m----> 8\u001b[0;31m \u001b[0mmacro_ref\u001b[0m \u001b[0;34m=\u001b[0m \u001b[0moutput_ref\u001b[0m\u001b[0;34m[\u001b[0m\u001b[0;34m\"macro_frames\"\u001b[0m\u001b[0;34m]\u001b[0m\u001b[0;34m\u001b[0m\u001b[0;34m\u001b[0m\u001b[0m\n\u001b[0m\u001b[1;32m      9\u001b[0m \u001b[0mmacro_rbm\u001b[0m \u001b[0;34m=\u001b[0m \u001b[0moutput_rbm\u001b[0m\u001b[0;34m[\u001b[0m\u001b[0;34m\"macro_frames\"\u001b[0m\u001b[0;34m]\u001b[0m\u001b[0;34m\u001b[0m\u001b[0;34m\u001b[0m\u001b[0m\n\u001b[1;32m     10\u001b[0m \u001b[0mmacro_rbm_symm\u001b[0m \u001b[0;34m=\u001b[0m \u001b[0moutput_rbm_symm\u001b[0m\u001b[0;34m[\u001b[0m\u001b[0;34m\"macro_frames\"\u001b[0m\u001b[0;34m]\u001b[0m\u001b[0;34m\u001b[0m\u001b[0;34m\u001b[0m\u001b[0m\n",
      "\u001b[0;31mNameError\u001b[0m: name 'output_ref' is not defined"
     ]
    },
    {
     "data": {
      "image/png": "[encoded data removed]",
      "text/plain": [
       "<Figure size 1440x360 with 3 Axes>"
      ]
     },
     "metadata": {
      "needs_background": "light"
     },
     "output_type": "display_data"
    }
   ],
   "source": [
    "import numpy as np\n",
    "import matplotlib.pyplot as plt\n",
    "\n",
    "t_idx = -1\n",
    "\n",
    "fig, (ax1, ax2, ax3) = plt.subplots(1, 3, figsize=(20,5))\n",
    "\n",
    "macro_ref = output_ref[\"macro_frames\"]\n",
    "macro_rbm = output_rbm[\"macro_frames\"]\n",
    "macro_rbm_symm = output_rbm_symm[\"macro_frames\"]\n",
    "\n",
    "x = output_ref[\"x\"]\n",
    "t = output_ref[\"t\"]\n",
    "\n",
    "ax1.plot(x, macro_ref[t_idx], label=\"Ref\")\n",
    "ax1.plot(x, macro_rbm[t_idx], \"o\", markevery=1, label=\"RBM\")\n",
    "ax1.set_xlabel(r\"$x$\", fontsize=14)\n",
    "ax1.set_ylabel(r\"$\\rho$\", fontsize=14)\n",
    "ax1.legend()\n",
    "\n",
    "ax2.plot(x, macro_ref[t_idx], label=\"Ref\")\n",
    "ax2.plot(x, macro_rbm_symm[t_idx], \"o\", markevery=1, label=\"RBM-Symm\")\n",
    "ax2.set_xlabel(r\"$x$\", fontsize=14)\n",
    "ax2.set_ylabel(r\"$\\rho$\", fontsize=14)\n",
    "ax2.legend()\n",
    "\n",
    "\n",
    "rho_errs_rbm = [np.sqrt(np.sum((macro_rbm[t_idx] - macro_ref[t_idx]) ** 2) * dx) for t_idx in range(nt+1)]\n",
    "rho_errs_rbm_symm = [np.sqrt(np.sum((macro_rbm_symm[t_idx] - macro_ref[t_idx]) ** 2) * dx) for t_idx in range(nt+1)]\n",
    "ax3.plot(t, rho_errs_rbm, label=\"RBM\")\n",
    "ax3.plot(t, rho_errs_rbm_symm, label=\"RBM-Symm\")\n",
    "ax3.set_xlabel(r\"$t$\", fontsize=14)\n",
    "ax3.set_ylabel(r\"$\\ell^2$ error of $\\rho$\", fontsize=14)\n",
    "ax3.legend()\n",
    "\n",
    "# plt.savefig(\"./explicit_fine_example4.pdf\")"
   ]
  }
 ],
 "metadata": {
  "kernelspec": {
   "display_name": "Python 3",
   "language": "python",
   "name": "python3"
  },
  "language_info": {
   "codemirror_mode": {
    "name": "ipython",
    "version": 3
   },
   "file_extension": ".py",
   "mimetype": "text/x-python",
   "name": "python",
   "nbconvert_exporter": "python",
   "pygments_lexer": "ipython3",
   "version": "3.8.6"
  }
 },
 "nbformat": 4,
 "nbformat_minor": 4
}
